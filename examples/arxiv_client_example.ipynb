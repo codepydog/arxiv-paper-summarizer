{
    "cells": [
        {
            "cell_type": "markdown",
            "metadata": {},
            "source": [
                "# ArxivClient Example Usage\n",
                "\n",
                "This notebook demonstrates basic usage of the ArxivClient to fetch PDF content from ArXiv papers."
            ]
        },
        {
            "cell_type": "markdown",
            "metadata": {},
            "source": [
                "## 1. Import ArxivClient"
            ]
        },
        {
            "cell_type": "code",
            "execution_count": 1,
            "metadata": {},
            "outputs": [],
            "source": [
                "from arxiv_paper_summarizer.arxiv import ArxivClient, fetch_papers_by_url, load_paper_as_file_by_url"
            ]
        },
        {
            "cell_type": "markdown",
            "metadata": {},
            "source": [
                "## 2. Fetch Paper Content\n",
                "\n",
                "Using the URL: https://arxiv.org/abs/2309.08600"
            ]
        },
        {
            "cell_type": "code",
            "execution_count": 2,
            "metadata": {},
            "outputs": [
                {
                    "name": "stdout",
                    "output_type": "stream",
                    "text": [
                        "Successfully fetched paper: Sparse Autoencoders Find Highly Interpretable Features in Language Models\n"
                    ]
                }
            ],
            "source": [
                "# Define the ArXiv URL\n",
                "url = \"https://arxiv.org/abs/2309.08600\"\n",
                "\n",
                "# Fetch paper content\n",
                "papers = fetch_papers_by_url(url)\n",
                "paper = papers[0]\n",
                "\n",
                "print(f\"Successfully fetched paper: {paper.title}\")"
            ]
        },
        {
            "cell_type": "markdown",
            "metadata": {},
            "source": [
                "## 3. Display Paper Information"
            ]
        },
        {
            "cell_type": "code",
            "execution_count": 3,
            "metadata": {},
            "outputs": [
                {
                    "name": "stdout",
                    "output_type": "stream",
                    "text": [
                        "Title: Sparse Autoencoders Find Highly Interpretable Features in Language Models\n",
                        "Authors: Hoagy Cunningham, Aidan Ewart, Logan Riggs, Robert Huben, Lee Sharkey\n",
                        "Published: 2023-09-15T17:56:55+00:00\n",
                        "URL: http://arxiv.org/abs/2309.08600v3\n",
                        "Text length: 49,578 characters\n"
                    ]
                }
            ],
            "source": [
                "print(f\"Title: {paper.title}\")\n",
                "print(f\"Authors: {', '.join(paper.authors)}\")\n",
                "print(f\"Published: {paper.published}\")\n",
                "print(f\"URL: {paper.url}\")\n",
                "print(f\"Text length: {len(paper.text):,} characters\")"
            ]
        },
        {
            "cell_type": "markdown",
            "metadata": {},
            "source": [
                "## 4. Preview Paper Content"
            ]
        },
        {
            "cell_type": "code",
            "execution_count": 4,
            "metadata": {},
            "outputs": [
                {
                    "name": "stdout",
                    "output_type": "stream",
                    "text": [
                        "First 500 characters of the paper:\n",
                        "--------------------------------------------------\n",
                        "SPARSE AUTOENCODERS FIND HIGHLY INTER-\n",
                        "PRETABLE FEATURES IN LANGUAGE MODELS\n",
                        "Hoagy Cunningham∗12, Aidan Ewart∗13, Logan Riggs∗1, Robert Huben, Lee Sharkey4\n",
                        "1EleutherAI, 2MATS, 3Bristol AI Safety Centre, 4Apollo Research\n",
                        "{hoagycunningham, aidanprattewart, logansmith5}@gmail.com\n",
                        "ABSTRACT\n",
                        "One of the roadblocks to a better understanding of neural networks’ internals is\n",
                        "polysemanticity, where neurons appear to activate in multiple, semantically dis-\n",
                        "tinct contexts.\n",
                        "Polysemanticity prevents us from ide...\n"
                    ]
                }
            ],
            "source": [
                "# Show first 500 characters of the paper text\n",
                "print(\"First 500 characters of the paper:\")\n",
                "print(\"-\" * 50)\n",
                "print(paper.text[:500] + \"...\")"
            ]
        },
        {
            "cell_type": "markdown",
            "metadata": {},
            "source": [
                "## 5. Get PDF as File Object"
            ]
        },
        {
            "cell_type": "code",
            "execution_count": 5,
            "metadata": {},
            "outputs": [
                {
                    "name": "stdout",
                    "output_type": "stream",
                    "text": [
                        "PDF file size: 1,820,169 bytes\n",
                        "PDF successfully loaded as file object\n"
                    ]
                }
            ],
            "source": [
                "# Get PDF as BytesIO object\n",
                "pdf_file = load_paper_as_file_by_url(url)\n",
                "\n",
                "if pdf_file:\n",
                "    print(f\"PDF file size: {len(pdf_file.getvalue()):,} bytes\")\n",
                "    print(\"PDF successfully loaded as file object\")\n",
                "else:\n",
                "    print(\"Failed to load PDF\")"
            ]
        },
        {
            "cell_type": "markdown",
            "metadata": {},
            "source": [
                "## 6. Utility Functions Demo"
            ]
        },
        {
            "cell_type": "code",
            "execution_count": 6,
            "metadata": {},
            "outputs": [
                {
                    "name": "stdout",
                    "output_type": "stream",
                    "text": [
                        "Extracted ArXiv ID: 2309.08600\n",
                        "\n",
                        "Testing URL parsing:\n",
                        "  https://arxiv.org/abs/2309.08600 -> 2309.08600\n",
                        "  https://huggingface.co/papers/2309.08600 -> 2309.08600\n",
                        "  arxiv.org/abs/2309.08600v1 -> 2309.08600\n"
                    ]
                }
            ],
            "source": [
                "# Create ArxivClient instance for utility functions\n",
                "client = ArxivClient()\n",
                "\n",
                "# Extract ArXiv ID from URL\n",
                "arxiv_id = client.parse_arxiv_id(url)\n",
                "print(f\"Extracted ArXiv ID: {arxiv_id}\")\n",
                "\n",
                "# Test with different URL formats\n",
                "test_urls = [\n",
                "    \"https://arxiv.org/abs/2309.08600\",\n",
                "    \"https://huggingface.co/papers/2309.08600\",\n",
                "    \"arxiv.org/abs/2309.08600v1\"\n",
                "]\n",
                "\n",
                "print(\"\\nTesting URL parsing:\")\n",
                "for test_url in test_urls:\n",
                "    try:\n",
                "        extracted_id = client.parse_arxiv_id(test_url)\n",
                "        print(f\"  {test_url} -> {extracted_id}\")\n",
                "    except Exception as e:\n",
                "        print(f\"  {test_url} -> Error: {e}\")"
            ]
        },
        {
            "cell_type": "markdown",
            "metadata": {},
            "source": [
                "## Summary\n",
                "\n",
                "This example demonstrates the core ArxivClient functionality:\n",
                "\n",
                "- **`fetch_papers_by_url()`**: Fetch paper content and metadata\n",
                "- **`load_paper_as_file_by_url()`**: Get PDF as file object\n",
                "- **`parse_arxiv_id()`**: Extract ArXiv ID from various URL formats\n",
                "\n",
                "The ArxivClient handles PDF downloading, text extraction, and provides easy access to paper metadata."
            ]
        }
    ],
    "metadata": {
        "kernelspec": {
            "display_name": "arxiv-paper-summarizer-py3.12 (3.12.8)",
            "language": "python",
            "name": "python3"
        },
        "language_info": {
            "codemirror_mode": {
                "name": "ipython",
                "version": 3
            },
            "file_extension": ".py",
            "mimetype": "text/x-python",
            "name": "python",
            "nbconvert_exporter": "python",
            "pygments_lexer": "ipython3",
            "version": "3.12.8"
        }
    },
    "nbformat": 4,
    "nbformat_minor": 4
}
